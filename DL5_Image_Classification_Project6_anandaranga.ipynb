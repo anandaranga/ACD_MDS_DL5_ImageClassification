{
 "cells": [
  {
   "cell_type": "markdown",
   "metadata": {},
   "source": [
    "## Project DL 5 - Image classification\n",
    "### ACD MDS (Mar 2018 batch) Student: K. Anandaranga\n",
    "### Deep Learning"
   ]
  },
  {
   "cell_type": "code",
   "execution_count": 1,
   "metadata": {},
   "outputs": [],
   "source": [
    "# 1) Download CIFAR data\n",
    "# 2) Explore the data\n",
    "# 3) Pre-process the images - normalize the data, labels to be one-hot encoded\n",
    "# 4) Train the CNN on samples\n",
    "# 5) Test neural network prediction on sample images"
   ]
  },
  {
   "cell_type": "code",
   "execution_count": 2,
   "metadata": {},
   "outputs": [],
   "source": [
    "# Referred extensively to http://www.alivelearn.net/deeplearning/dlnd_image_classification_submission2.html\n",
    "# while completing this project"
   ]
  },
  {
   "cell_type": "markdown",
   "metadata": {},
   "source": [
    "#### 1) Get CIFAR data"
   ]
  },
  {
   "cell_type": "code",
   "execution_count": 3,
   "metadata": {},
   "outputs": [],
   "source": [
    "from urllib.request import urlretrieve\n",
    "from os.path import isfile, isdir\n",
    "from tqdm import tqdm\n",
    "\n",
    "import tarfile\n",
    "\n",
    "cifar10_dataset_folder_path = 'cifar-10-batches-py'\n",
    "\n",
    "class DLProgress(tqdm):\n",
    "    last_block = 0\n",
    "\n",
    "    def hook(self, block_num=1, block_size=1, total_size=None):\n",
    "        self.total = total_size\n",
    "        self.update((block_num - self.last_block) * block_size)\n",
    "        self.last_block = block_num\n",
    "\n",
    "if not isfile('cifar-10-python.tar.gz'):\n",
    "    with DLProgress(unit='B', unit_scale=True, miniters=1, desc='CIFAR-10 Dataset') as pbar:\n",
    "        urlretrieve(\n",
    "            'https://www.cs.toronto.edu/~kriz/cifar-10-python.tar.gz',\n",
    "            'cifar-10-python.tar.gz',\n",
    "            pbar.hook)\n",
    "\n",
    "if not isdir(cifar10_dataset_folder_path):\n",
    "    with tarfile.open('cifar-10-python.tar.gz') as tar:\n",
    "        tar.extractall()\n",
    "        tar.close()\n"
   ]
  },
  {
   "cell_type": "markdown",
   "metadata": {},
   "source": [
    "#### Helper functions"
   ]
  },
  {
   "cell_type": "code",
   "execution_count": 4,
   "metadata": {},
   "outputs": [],
   "source": [
    "import pickle\n",
    "import numpy as np\n",
    "import matplotlib.pyplot as plt\n",
    "from sklearn.preprocessing import LabelBinarizer\n",
    "\n",
    "def _load_label_names():\n",
    "    \"\"\"\n",
    "    Load the label names from file\n",
    "    \"\"\"\n",
    "    return ['airplane', 'automobile', 'bird', 'cat', 'deer', 'dog', 'frog', 'horse', 'ship', 'truck']\n",
    "\n",
    "def load_cfar10_batch(cifar10_dataset_folder_path, batch_id):\n",
    "    \"\"\"\n",
    "    Load a batch of the dataset\n",
    "    \"\"\"\n",
    "    with open(cifar10_dataset_folder_path + '/data_batch_' + str(batch_id), mode='rb') as file:\n",
    "        batch = pickle.load(file, encoding='latin1')\n",
    "\n",
    "    features = batch['data'].reshape((len(batch['data']), 3, 32, 32)).transpose(0, 2, 3, 1)\n",
    "    labels = batch['labels']\n",
    "\n",
    "    return features, labels\n",
    "\n",
    "def display_stats(cifar10_dataset_folder_path, batch_id, sample_id):\n",
    "    \"\"\"\n",
    "    Display Stats of the the dataset\n",
    "    \"\"\"\n",
    "    batch_ids = list(range(1, 6))\n",
    "\n",
    "    if batch_id not in batch_ids:\n",
    "        print('Batch Id out of Range. Possible Batch Ids: {}'.format(batch_ids))\n",
    "        return None\n",
    "\n",
    "    features, labels = load_cfar10_batch(cifar10_dataset_folder_path, batch_id)\n",
    "\n",
    "    if not (0 <= sample_id < len(features)):\n",
    "        print('{} samples in batch {}.  {} is out of range.'.format(len(features), batch_id, sample_id))\n",
    "        return None\n",
    "\n",
    "    print('\\nStats of batch {}:'.format(batch_id))\n",
    "    print('Samples: {}'.format(len(features)))\n",
    "    print('Label Counts: {}'.format(dict(zip(*np.unique(labels, return_counts=True)))))\n",
    "    print('First 20 Labels: {}'.format(labels[:20]))\n",
    "\n",
    "    sample_image = features[sample_id]\n",
    "    sample_label = labels[sample_id]\n",
    "    label_names = _load_label_names()\n",
    "\n",
    "    print('\\nExample of Image {}:'.format(sample_id))\n",
    "    print('Image - Min Value: {} Max Value: {}'.format(sample_image.min(), sample_image.max()))\n",
    "    print('Image - Shape: {}'.format(sample_image.shape))\n",
    "    print('Label - Label Id: {} Name: {}'.format(sample_label, label_names[sample_label]))\n",
    "    plt.axis('off')\n",
    "    plt.imshow(sample_image)\n",
    "    \n",
    "def _preprocess_and_save(normalize, one_hot_encode, features, labels, filename):\n",
    "    \"\"\"\n",
    "    Preprocess data and save it to file\n",
    "    \"\"\"\n",
    "    features = normalize(features)\n",
    "    labels = one_hot_encode(labels)\n",
    "\n",
    "    pickle.dump((features, labels), open(filename, 'wb'))\n",
    "\n",
    "def preprocess_and_save_data(cifar10_dataset_folder_path, normalize, one_hot_encode):\n",
    "    \"\"\"\n",
    "    Preprocess Training and Validation Data\n",
    "    \"\"\"\n",
    "    n_batches = 5\n",
    "    valid_features = []\n",
    "    valid_labels = []\n",
    "\n",
    "    for batch_i in range(1, n_batches + 1):\n",
    "        features, labels = load_cfar10_batch(cifar10_dataset_folder_path, batch_i)\n",
    "        validation_count = int(len(features) * 0.1)\n",
    "\n",
    "        # Prprocess and save a batch of training data\n",
    "        _preprocess_and_save(\n",
    "            normalize,\n",
    "            one_hot_encode,\n",
    "            features[:-validation_count],\n",
    "            labels[:-validation_count],\n",
    "            'preprocess_batch_' + str(batch_i) + '.p')\n",
    "\n",
    "        # Use a portion of training batch for validation\n",
    "        valid_features.extend(features[-validation_count:])\n",
    "        valid_labels.extend(labels[-validation_count:])\n",
    "\n",
    "    # Preprocess and Save all validation data\n",
    "    _preprocess_and_save(\n",
    "        normalize,\n",
    "        one_hot_encode,\n",
    "        np.array(valid_features),\n",
    "        np.array(valid_labels),\n",
    "        'preprocess_validation.p')\n",
    "\n",
    "    with open(cifar10_dataset_folder_path + '/test_batch', mode='rb') as file:\n",
    "        batch = pickle.load(file, encoding='latin1')\n",
    "\n",
    "    # load the test data\n",
    "    test_features = batch['data'].reshape((len(batch['data']), 3, 32, 32)).transpose(0, 2, 3, 1)\n",
    "    test_labels = batch['labels']\n",
    "\n",
    "    # Preprocess and Save all test data\n",
    "    _preprocess_and_save(\n",
    "        normalize,\n",
    "        one_hot_encode,\n",
    "        np.array(test_features),\n",
    "        np.array(test_labels),\n",
    "        'preprocess_test.p')\n",
    "\n",
    "def batch_features_labels(features, labels, batch_size):\n",
    "    \"\"\"\n",
    "    Split features and labels into batches\n",
    "    \"\"\"\n",
    "    for start in range(0, len(features), batch_size):\n",
    "        end = min(start + batch_size, len(features))\n",
    "        yield features[start:end], labels[start:end]\n",
    "        \n",
    "\n",
    "def load_preprocess_training_batch(batch_id, batch_size):\n",
    "    \"\"\"\n",
    "    Load the Preprocessed Training data and return them in batches of <batch_size> or less\n",
    "    \"\"\"\n",
    "    filename = 'preprocess_batch_' + str(batch_id) + '.p'\n",
    "    features, labels = pickle.load(open(filename, mode='rb'))\n",
    "\n",
    "    # Return the training data in batches of size <batch_size> or less\n",
    "    return batch_features_labels(features, labels, batch_size)\n",
    "\n",
    "def display_image_predictions(features, labels, predictions):\n",
    "    n_classes = 10\n",
    "    label_names = _load_label_names()\n",
    "    label_binarizer = LabelBinarizer()\n",
    "    label_binarizer.fit(range(n_classes))\n",
    "    label_ids = label_binarizer.inverse_transform(np.array(labels))\n",
    "\n",
    "    fig, axies = plt.subplots(nrows=4, ncols=2)\n",
    "    fig.tight_layout()\n",
    "    fig.suptitle('Softmax Predictions', fontsize=20, y=1.1)\n",
    "\n",
    "    n_predictions = 3\n",
    "    margin = 0.05\n",
    "    ind = np.arange(n_predictions)\n",
    "    width = (1. - 2. * margin) / n_predictions\n",
    "\n",
    "    for image_i, (feature, label_id, pred_indicies, pred_values) in enumerate(zip(features, label_ids, predictions.indices, predictions.values)):\n",
    "        pred_names = [label_names[pred_i] for pred_i in pred_indicies]\n",
    "        correct_name = label_names[label_id]\n",
    "\n",
    "        axies[image_i][0].imshow(feature)\n",
    "        axies[image_i][0].set_title(correct_name)\n",
    "        axies[image_i][0].set_axis_off()\n",
    "\n",
    "        axies[image_i][1].barh(ind + margin, pred_values[::-1], width)\n",
    "        axies[image_i][1].set_yticks(ind + margin)\n",
    "        axies[image_i][1].set_yticklabels(pred_names[::-1])\n",
    "        axies[image_i][1].set_xticks([0, 0.5, 1.0])\n",
    "    "
   ]
  },
  {
   "cell_type": "markdown",
   "metadata": {},
   "source": [
    "#### 2) Explore the data"
   ]
  },
  {
   "cell_type": "code",
   "execution_count": 5,
   "metadata": {},
   "outputs": [
    {
     "name": "stdout",
     "output_type": "stream",
     "text": [
      "\n",
      "Stats of batch 3:\n",
      "Samples: 10000\n",
      "Label Counts: {0: 994, 1: 1042, 2: 965, 3: 997, 4: 990, 5: 1029, 6: 978, 7: 1015, 8: 961, 9: 1029}\n",
      "First 20 Labels: [8, 5, 0, 6, 9, 2, 8, 3, 6, 2, 7, 4, 6, 9, 0, 0, 7, 3, 7, 2]\n",
      "\n",
      "Example of Image 5:\n",
      "Image - Min Value: 9 Max Value: 255\n",
      "Image - Shape: (32, 32, 3)\n",
      "Label - Label Id: 2 Name: bird\n"
     ]
    },
    {
     "data": {
      "image/png": "[encoded data removed]",
      "text/plain": [
       "<Figure size 432x288 with 1 Axes>"
      ]
     },
     "metadata": {
      "image/png": {
       "height": 250,
       "width": 253
      }
     },
     "output_type": "display_data"
    }
   ],
   "source": [
    "%matplotlib inline\n",
    "%config InlineBackend.figure_format = 'retina'\n",
    "\n",
    "import numpy as np\n",
    "\n",
    "# Explore the dataset\n",
    "batch_id = 3\n",
    "sample_id = 5\n",
    "\n",
    "display_stats(cifar10_dataset_folder_path, batch_id, sample_id)"
   ]
  },
  {
   "cell_type": "markdown",
   "metadata": {},
   "source": [
    "#### Play around with the code cell by changing the batch_id and sample_id. The batch_id is the id for a batch (1-5). The sample_id is the id for an image and label pair in the batch"
   ]
  },
  {
   "cell_type": "code",
   "execution_count": 6,
   "metadata": {},
   "outputs": [
    {
     "name": "stdout",
     "output_type": "stream",
     "text": [
      "\n",
      "Stats of batch 1:\n",
      "Samples: 10000\n",
      "Label Counts: {0: 1005, 1: 974, 2: 1032, 3: 1016, 4: 999, 5: 937, 6: 1030, 7: 1001, 8: 1025, 9: 981}\n",
      "First 20 Labels: [6, 9, 9, 4, 1, 1, 2, 7, 8, 3, 4, 7, 7, 2, 9, 9, 9, 3, 2, 6]\n",
      "\n",
      "Example of Image 5:\n",
      "Image - Min Value: 0 Max Value: 252\n",
      "Image - Shape: (32, 32, 3)\n",
      "Label - Label Id: 1 Name: automobile\n"
     ]
    },
    {
     "data": {
      "image/png": "[encoded data removed]",
      "text/plain": [
       "<Figure size 432x288 with 1 Axes>"
      ]
     },
     "metadata": {
      "image/png": {
       "height": 250,
       "width": 253
      }
     },
     "output_type": "display_data"
    }
   ],
   "source": [
    "# Explore the dataset\n",
    "display_stats(cifar10_dataset_folder_path, batch_id = 1, sample_id = 5)"
   ]
  },
  {
   "cell_type": "code",
   "execution_count": 7,
   "metadata": {},
   "outputs": [
    {
     "name": "stdout",
     "output_type": "stream",
     "text": [
      "\n",
      "Stats of batch 2:\n",
      "Samples: 10000\n",
      "Label Counts: {0: 984, 1: 1007, 2: 1010, 3: 995, 4: 1010, 5: 988, 6: 1008, 7: 1026, 8: 987, 9: 985}\n",
      "First 20 Labels: [1, 6, 6, 8, 8, 3, 4, 6, 0, 6, 0, 3, 6, 6, 5, 4, 8, 3, 2, 6]\n",
      "\n",
      "Example of Image 10:\n",
      "Image - Min Value: 4 Max Value: 231\n",
      "Image - Shape: (32, 32, 3)\n",
      "Label - Label Id: 0 Name: airplane\n"
     ]
    },
    {
     "data": {
      "image/png": "[encoded data removed]",
      "text/plain": [
       "<Figure size 432x288 with 1 Axes>"
      ]
     },
     "metadata": {
      "image/png": {
       "height": 250,
       "width": 253
      }
     },
     "output_type": "display_data"
    }
   ],
   "source": [
    "display_stats(cifar10_dataset_folder_path, batch_id = 2, sample_id = 10)"
   ]
  },
  {
   "cell_type": "code",
   "execution_count": 8,
   "metadata": {},
   "outputs": [
    {
     "name": "stdout",
     "output_type": "stream",
     "text": [
      "\n",
      "Stats of batch 3:\n",
      "Samples: 10000\n",
      "Label Counts: {0: 994, 1: 1042, 2: 965, 3: 997, 4: 990, 5: 1029, 6: 978, 7: 1015, 8: 961, 9: 1029}\n",
      "First 20 Labels: [8, 5, 0, 6, 9, 2, 8, 3, 6, 2, 7, 4, 6, 9, 0, 0, 7, 3, 7, 2]\n",
      "\n",
      "Example of Image 15:\n",
      "Image - Min Value: 59 Max Value: 210\n",
      "Image - Shape: (32, 32, 3)\n",
      "Label - Label Id: 0 Name: airplane\n"
     ]
    },
    {
     "data": {
      "image/png": "[encoded data removed]",
      "text/plain": [
       "<Figure size 432x288 with 1 Axes>"
      ]
     },
     "metadata": {
      "image/png": {
       "height": 250,
       "width": 253
      }
     },
     "output_type": "display_data"
    }
   ],
   "source": [
    "display_stats(cifar10_dataset_folder_path, batch_id = 3, sample_id = 15)"
   ]
  },
  {
   "cell_type": "code",
   "execution_count": 9,
   "metadata": {},
   "outputs": [
    {
     "name": "stdout",
     "output_type": "stream",
     "text": [
      "\n",
      "Stats of batch 4:\n",
      "Samples: 10000\n",
      "Label Counts: {0: 1003, 1: 963, 2: 1041, 3: 976, 4: 1004, 5: 1021, 6: 1004, 7: 981, 8: 1024, 9: 983}\n",
      "First 20 Labels: [0, 6, 0, 2, 7, 2, 1, 2, 4, 1, 5, 6, 6, 3, 1, 3, 5, 5, 8, 1]\n",
      "\n",
      "Example of Image 20:\n",
      "Image - Min Value: 18 Max Value: 223\n",
      "Image - Shape: (32, 32, 3)\n",
      "Label - Label Id: 4 Name: deer\n"
     ]
    },
    {
     "data": {
      "image/png": "[encoded data removed]",
      "text/plain": [
       "<Figure size 432x288 with 1 Axes>"
      ]
     },
     "metadata": {
      "image/png": {
       "height": 250,
       "width": 253
      }
     },
     "output_type": "display_data"
    }
   ],
   "source": [
    "display_stats(cifar10_dataset_folder_path, batch_id = 4, sample_id = 20)"
   ]
  },
  {
   "cell_type": "code",
   "execution_count": 10,
   "metadata": {},
   "outputs": [
    {
     "name": "stdout",
     "output_type": "stream",
     "text": [
      "\n",
      "Stats of batch 5:\n",
      "Samples: 10000\n",
      "Label Counts: {0: 1014, 1: 1014, 2: 952, 3: 1016, 4: 997, 5: 1025, 6: 980, 7: 977, 8: 1003, 9: 1022}\n",
      "First 20 Labels: [1, 8, 5, 1, 5, 7, 4, 3, 8, 2, 7, 2, 0, 1, 5, 9, 6, 2, 0, 8]\n",
      "\n",
      "Example of Image 25:\n",
      "Image - Min Value: 0 Max Value: 249\n",
      "Image - Shape: (32, 32, 3)\n",
      "Label - Label Id: 7 Name: horse\n"
     ]
    },
    {
     "data": {
      "image/png": "[encoded data removed]",
      "text/plain": [
       "<Figure size 432x288 with 1 Axes>"
      ]
     },
     "metadata": {
      "image/png": {
       "height": 250,
       "width": 253
      }
     },
     "output_type": "display_data"
    }
   ],
   "source": [
    "display_stats(cifar10_dataset_folder_path, batch_id = 5, sample_id = 25)"
   ]
  },
  {
   "cell_type": "markdown",
   "metadata": {},
   "source": [
    "#### Based on the quick evaluation it is clear that:\n",
    "(a) 10 possible labels - encoded 0 to 9 ('airplane', 'automobile', 'bird', 'cat', 'deer', 'dog', 'frog', 'horse', 'ship', 'truck') <br>\n",
    "(b) 5 possible batches - 1 to 5 <br>\n",
    "(c) 10,000 images per batch - Image ID from 0 to 9999 <br>\n",
    "(d) 5 batches of 10K images = 50K images total<br>"
   ]
  },
  {
   "cell_type": "code",
   "execution_count": 11,
   "metadata": {},
   "outputs": [],
   "source": [
    "def normalize(x):\n",
    "    \"\"\"\n",
    "    Normalize a list of sample image data in the range of 0 to 1\n",
    "    : x: List of image data.  The image shape is (32, 32, 3)\n",
    "    : return: Numpy array of normalize data\n",
    "    \"\"\"\n",
    "    # TODO: Implement Function\n",
    "    # return None\n",
    "    a = 0\n",
    "    b = 255\n",
    "    return (x-a)/(b-a)\n",
    "\n",
    "def one_hot_encode(x):\n",
    "    \"\"\"\n",
    "    One hot encode a list of sample labels. Return a one-hot encoded vector for each label.\n",
    "    : x: List of sample Labels\n",
    "    : return: Numpy array of one-hot encoded labels\n",
    "    \"\"\"\n",
    "    # TODO: Implement Function\n",
    "    # return None\n",
    "    y = np.zeros((len(x), 10))\n",
    "    for i in range(len(x)):\n",
    "        y[i,x[i]] = 1\n",
    "    return y"
   ]
  },
  {
   "cell_type": "markdown",
   "metadata": {},
   "source": [
    "#### Pre-process the data and save it"
   ]
  },
  {
   "cell_type": "code",
   "execution_count": 12,
   "metadata": {},
   "outputs": [],
   "source": [
    "# Preprocess Training, Validation, and Testing Data\n",
    "preprocess_and_save_data(cifar10_dataset_folder_path, normalize, one_hot_encode)\n",
    "\n",
    "# Load the Preprocessed Validation data\n",
    "valid_features, valid_labels = pickle.load(open('preprocess_validation.p', mode='rb'))\n",
    "\n"
   ]
  },
  {
   "cell_type": "markdown",
   "metadata": {},
   "source": [
    "#### Create Neural Network"
   ]
  },
  {
   "cell_type": "code",
   "execution_count": 13,
   "metadata": {},
   "outputs": [],
   "source": [
    "import tensorflow as tf"
   ]
  },
  {
   "cell_type": "code",
   "execution_count": 14,
   "metadata": {},
   "outputs": [],
   "source": [
    "\n",
    "\n",
    "def neural_net_image_input(image_shape):\n",
    "    \"\"\"\n",
    "    Return a Tensor for a bach of image input\n",
    "    : image_shape: Shape of the images\n",
    "    : return: Tensor for image input.\n",
    "    \"\"\"\n",
    "    # TODO: Implement Function    \n",
    "    return tf.placeholder(tf.float32, [None] + list(image_shape), \"x\")\n",
    "\n",
    "\n",
    "def neural_net_label_input(n_classes):\n",
    "    \"\"\"\n",
    "    Return a Tensor for a batch of label input\n",
    "    : n_classes: Number of classes\n",
    "    : return: Tensor for label input.\n",
    "    \"\"\"\n",
    "    # TODO: Implement Function\n",
    "    return tf.placeholder(tf.float32, [None, n_classes], \"y\")\n",
    "\n",
    "\n",
    "def neural_net_keep_prob_input():\n",
    "    \"\"\"\n",
    "    Return a Tensor for keep probability\n",
    "    : return: Tensor for keep probability.\n",
    "    \"\"\"\n",
    "    # TODO: Implement Function\n",
    "    return tf.placeholder(tf.float32, None, \"keep_prob\")\n"
   ]
  },
  {
   "cell_type": "markdown",
   "metadata": {},
   "source": [
    "#### Now, create Convolution and max pooling"
   ]
  },
  {
   "cell_type": "code",
   "execution_count": 15,
   "metadata": {},
   "outputs": [],
   "source": [
    "def conv2d_maxpool(x_tensor, conv_num_outputs, conv_ksize, conv_strides, pool_ksize, pool_strides):\n",
    "    \"\"\"\n",
    "    Apply convolution then max pooling to x_tensor\n",
    "    :param x_tensor: TensorFlow Tensor\n",
    "    :param conv_num_outputs: Number of outputs for the convolutional layer\n",
    "    :param conv_ksize: kernal size 2-D Tuple for the convolutional layer\n",
    "    :param conv_strides: Stride 2-D Tuple for convolution\n",
    "    :param pool_ksize: kernal size 2-D Tuple for pool\n",
    "    :param pool_strides: Stride 2-D Tuple for pool\n",
    "    : return: A tensor that represents convolution and max pooling of x_tensor\n",
    "    \"\"\"\n",
    "    # TODO: Implement Function    \n",
    "    dimension = x_tensor.get_shape().as_list()\n",
    "    shape = list(conv_ksize + (dimension[-1],) + (conv_num_outputs,))\n",
    "    #print(shape)\n",
    "    filter_weights = tf.Variable(tf.truncated_normal(shape,0,0.1)) # (height, width, input_depth, output_depth)\n",
    "    filter_bias = tf.Variable(tf.zeros(conv_num_outputs))\n",
    "    padding = 'SAME'\n",
    "    #print(list((1,)+conv_strides+(1,)))\n",
    "    #print(filter_weights)\n",
    "    conv_layer = tf.nn.conv2d(x_tensor, filter_weights, list((1,)+conv_strides+(1,)), padding)\n",
    "    conv_layer = tf.nn.bias_add(conv_layer, filter_bias)\n",
    "    \n",
    "    conv_layer = tf.nn.relu(conv_layer)\n",
    "    \n",
    "    conv_layer = tf.nn.max_pool(\n",
    "        conv_layer,\n",
    "        ksize=[1] + list(pool_ksize) + [1],\n",
    "        strides=[1] + list(pool_strides) + [1],\n",
    "        padding='SAME')\n",
    "    \n",
    "    return conv_layer"
   ]
  },
  {
   "cell_type": "markdown",
   "metadata": {},
   "source": [
    "#### Flatten Layer"
   ]
  },
  {
   "cell_type": "code",
   "execution_count": 16,
   "metadata": {},
   "outputs": [],
   "source": [
    "from numpy import prod\n",
    "def flatten(x_tensor):\n",
    "    \"\"\"\n",
    "    Flatten x_tensor to (Batch Size, Flattened Image Size)\n",
    "    : x_tensor: A tensor of size (Batch Size, ...), where ... are the image dimensions.\n",
    "    : return: A tensor of size (Batch Size, Flattened Image Size).\n",
    "    \"\"\"\n",
    "    # TODO: Implement Function\n",
    "    #return None\n",
    "    dimension = x_tensor.get_shape().as_list()    \n",
    "    return tf.reshape(x_tensor,[-1,prod(dimension[1:])])\n"
   ]
  },
  {
   "cell_type": "markdown",
   "metadata": {},
   "source": [
    "#### Fully connected Layer\n",
    "\n"
   ]
  },
  {
   "cell_type": "code",
   "execution_count": 17,
   "metadata": {},
   "outputs": [],
   "source": [
    "def fully_conn(x_tensor, num_outputs):\n",
    "    \"\"\"\n",
    "    Apply a fully connected layer to x_tensor using weight and bias\n",
    "    : x_tensor: A 2-D tensor where the first dimension is batch size.\n",
    "    : num_outputs: The number of output that the new tensor should be.\n",
    "    : return: A 2-D tensor where the second dimension is num_outputs.\n",
    "    \"\"\"\n",
    "    # TODO: Implement Function\n",
    "    #return None\n",
    "    dimension = x_tensor.get_shape().as_list()\n",
    "    shape = list( (dimension[-1],) + (num_outputs,))\n",
    "    #print(shape)\n",
    "    weight = tf.Variable(tf.truncated_normal(shape,0,0.1))\n",
    "    bias = tf.Variable(tf.zeros(num_outputs))\n",
    "    return tf.nn.relu(tf.add(tf.matmul(x_tensor,weight), bias))\n"
   ]
  },
  {
   "cell_type": "markdown",
   "metadata": {},
   "source": [
    "#### Output layer"
   ]
  },
  {
   "cell_type": "code",
   "execution_count": 18,
   "metadata": {},
   "outputs": [],
   "source": [
    "def output(x_tensor, num_outputs):\n",
    "    \"\"\"\n",
    "    Apply a output layer to x_tensor using weight and bias\n",
    "    : x_tensor: A 2-D tensor where the first dimension is batch size.\n",
    "    : num_outputs: The number of output that the new tensor should be.\n",
    "    : return: A 2-D tensor where the second dimension is num_outputs.\n",
    "    \"\"\"\n",
    "    # TODO: Implement Function\n",
    "    # return None\n",
    "    dimension = x_tensor.get_shape().as_list()\n",
    "    shape = list( (dimension[-1],) + (num_outputs,))\n",
    "    #print(shape)\n",
    "    weight = tf.Variable(tf.truncated_normal(shape,0,0.01))\n",
    "    bias = tf.Variable(tf.zeros(num_outputs))\n",
    "    return tf.add(tf.matmul(x_tensor,weight), bias)\n"
   ]
  },
  {
   "cell_type": "markdown",
   "metadata": {},
   "source": [
    "#### Create CNN model"
   ]
  },
  {
   "cell_type": "code",
   "execution_count": 25,
   "metadata": {},
   "outputs": [],
   "source": [
    "def conv_net(x, keep_prob):\n",
    "    \"\"\"\n",
    "    Create a convolutional neural network model\n",
    "    : x: Placeholder tensor that holds image data.\n",
    "    : keep_prob: Placeholder tensor that hold dropout keep probability.\n",
    "    : return: Tensor that represents logits\n",
    "    \"\"\"\n",
    "    # TODO: Apply 1, 2, or 3 Convolution and Max Pool layers\n",
    "    #    Play around with different number of outputs, kernel size and stride\n",
    "    # Function Definition from Above:\n",
    "    #    conv2d_maxpool(x_tensor, conv_num_outputs, conv_ksize, conv_strides, pool_ksize, pool_strides)\n",
    "    model = conv2d_maxpool(x, conv_num_outputs=18, conv_ksize=(4,4), conv_strides=(1,1), pool_ksize=(8,8), pool_strides=(1,1))\n",
    "    #model = conv2d_maxpool(x, conv_num_outputs=36, conv_ksize=(4,4), conv_strides=(1,1), pool_ksize=(2,2), pool_strides=(1,1))\n",
    "    #model = conv2d_maxpool(model, conv_num_outputs=8, conv_ksize=(4,4), conv_strides=(1,1), pool_ksize=(4,4), pool_strides=(1,1))\n",
    "    #model = tf.nn.relu(model)\n",
    "    model = tf.nn.dropout(model, keep_prob)\n",
    "    \n",
    "    # TODO: Apply a Flatten Layer\n",
    "    # Function Definition from Above:\n",
    "    #   flatten(x_tensor)\n",
    "    model = flatten(model)\n",
    "\n",
    "    # TODO: Apply 1, 2, or 3 Fully Connected Layers\n",
    "    #    Play around with different number of outputs\n",
    "    # Function Definition from Above:\n",
    "    #   fully_conn(x_tensor, num_outputs)\n",
    "    model = fully_conn(model,384)\n",
    "    #model = fully_conn(model,200)\n",
    "    #model = fully_conn(model,20)\n",
    "    #model = tf.nn.relu(model)\n",
    "    \n",
    "    model = tf.nn.dropout(model, keep_prob)\n",
    "    \n",
    "    # TODO: Apply an Output Layer\n",
    "    #    Set this to the number of classes\n",
    "    # Function Definition from Above:\n",
    "    #   output(x_tensor, num_outputs)\n",
    "    model = output(model,10)\n",
    "    \n",
    "    # TODO: return output\n",
    "    return model\n",
    "\n",
    "\n",
    "##############################\n",
    "## Build the Neural Network ##\n",
    "##############################\n",
    "\n",
    "# Remove previous weights, bias, inputs, etc..\n",
    "tf.reset_default_graph()\n",
    "\n",
    "# Inputs\n",
    "x = neural_net_image_input((32, 32, 3))\n",
    "y = neural_net_label_input(10)\n",
    "keep_prob = neural_net_keep_prob_input()\n",
    "\n",
    "# Model\n",
    "logits = conv_net(x, keep_prob)\n",
    "\n",
    "# Name logits Tensor, so that is can be loaded from disk after training\n",
    "logits = tf.identity(logits, name='logits')\n",
    "\n",
    "# Loss and Optimizer\n",
    "cost = tf.reduce_mean(tf.nn.softmax_cross_entropy_with_logits(logits=logits, labels=y))\n",
    "optimizer = tf.train.AdamOptimizer().minimize(cost)\n",
    "\n",
    "# Accuracy\n",
    "correct_pred = tf.equal(tf.argmax(logits, 1), tf.argmax(y, 1))\n",
    "accuracy = tf.reduce_mean(tf.cast(correct_pred, tf.float32), name='accuracy')\n",
    "\n"
   ]
  },
  {
   "cell_type": "markdown",
   "metadata": {},
   "source": [
    "#### Train the neural network"
   ]
  },
  {
   "cell_type": "code",
   "execution_count": 26,
   "metadata": {},
   "outputs": [],
   "source": [
    "def train_neural_network(session, optimizer, keep_probability, feature_batch, label_batch):\n",
    "    \"\"\"\n",
    "    Optimize the session on a batch of images and labels\n",
    "    : session: Current TensorFlow session\n",
    "    : optimizer: TensorFlow optimizer function\n",
    "    : keep_probability: keep probability\n",
    "    : feature_batch: Batch of Numpy image data\n",
    "    : label_batch: Batch of Numpy label data\n",
    "    \"\"\"\n",
    "    # TODO: Implement Function\n",
    "    # pass\n",
    "    session.run(optimizer, feed_dict={x:feature_batch, y:label_batch, keep_prob:keep_probability})\n"
   ]
  },
  {
   "cell_type": "markdown",
   "metadata": {},
   "source": [
    "#### Show model statistics"
   ]
  },
  {
   "cell_type": "code",
   "execution_count": 27,
   "metadata": {},
   "outputs": [],
   "source": [
    "def print_stats(session, feature_batch, label_batch, cost, accuracy):\n",
    "    \"\"\"\n",
    "    Print information about loss and validation accuracy\n",
    "    : session: Current TensorFlow session\n",
    "    : feature_batch: Batch of Numpy image data\n",
    "    : label_batch: Batch of Numpy label data\n",
    "    : cost: TensorFlow cost function\n",
    "    : accuracy: TensorFlow accuracy function\n",
    "    \"\"\"\n",
    "    # TODO: Implement Function\n",
    "    # pass\n",
    "    loss = session.run(cost, feed_dict={x:feature_batch, y:label_batch, keep_prob:1.0})\n",
    "    valid_acc = sess.run(accuracy, feed_dict={\n",
    "                x: valid_features,\n",
    "                y: valid_labels,\n",
    "                keep_prob: 1.})\n",
    "    print('Loss: {:>10.4f} Validation Accuracy: {:.6f}'.format(\n",
    "                loss,\n",
    "                valid_acc))"
   ]
  },
  {
   "cell_type": "markdown",
   "metadata": {},
   "source": [
    "#### Hyperparameters"
   ]
  },
  {
   "cell_type": "code",
   "execution_count": 28,
   "metadata": {},
   "outputs": [],
   "source": [
    "epochs = 100\n",
    "batch_size = 512\n",
    "keep_probability = 0.3"
   ]
  },
  {
   "cell_type": "markdown",
   "metadata": {},
   "source": [
    "#### Train on a single CIFAR-10 batch"
   ]
  },
  {
   "cell_type": "code",
   "execution_count": 29,
   "metadata": {},
   "outputs": [
    {
     "name": "stdout",
     "output_type": "stream",
     "text": [
      "Checking the Training on a Single Batch...\n",
      "Epoch  1, CIFAR-10 Batch 1:  Loss:     2.2729 Validation Accuracy: 0.180000\n",
      "Epoch  2, CIFAR-10 Batch 1:  Loss:     2.0349 Validation Accuracy: 0.281400\n",
      "Epoch  3, CIFAR-10 Batch 1:  Loss:     1.8660 Validation Accuracy: 0.354400\n",
      "Epoch  4, CIFAR-10 Batch 1:  Loss:     1.7883 Validation Accuracy: 0.382400\n",
      "Epoch  5, CIFAR-10 Batch 1:  Loss:     1.7077 Validation Accuracy: 0.416800\n",
      "Epoch  6, CIFAR-10 Batch 1:  Loss:     1.6571 Validation Accuracy: 0.429800\n",
      "Epoch  7, CIFAR-10 Batch 1:  Loss:     1.6197 Validation Accuracy: 0.440800\n",
      "Epoch  8, CIFAR-10 Batch 1:  Loss:     1.5597 Validation Accuracy: 0.460400\n",
      "Epoch  9, CIFAR-10 Batch 1:  Loss:     1.5034 Validation Accuracy: 0.468400\n",
      "Epoch 10, CIFAR-10 Batch 1:  Loss:     1.4948 Validation Accuracy: 0.471400\n",
      "Epoch 11, CIFAR-10 Batch 1:  Loss:     1.4460 Validation Accuracy: 0.480600\n",
      "Epoch 12, CIFAR-10 Batch 1:  Loss:     1.4125 Validation Accuracy: 0.486200\n",
      "Epoch 13, CIFAR-10 Batch 1:  Loss:     1.3634 Validation Accuracy: 0.505600\n",
      "Epoch 14, CIFAR-10 Batch 1:  Loss:     1.3186 Validation Accuracy: 0.510800\n",
      "Epoch 15, CIFAR-10 Batch 1:  Loss:     1.2901 Validation Accuracy: 0.518200\n",
      "Epoch 16, CIFAR-10 Batch 1:  Loss:     1.2752 Validation Accuracy: 0.524400\n",
      "Epoch 17, CIFAR-10 Batch 1:  Loss:     1.2426 Validation Accuracy: 0.523400\n",
      "Epoch 18, CIFAR-10 Batch 1:  Loss:     1.2272 Validation Accuracy: 0.532800\n",
      "Epoch 19, CIFAR-10 Batch 1:  Loss:     1.2003 Validation Accuracy: 0.542400\n",
      "Epoch 20, CIFAR-10 Batch 1:  Loss:     1.1575 Validation Accuracy: 0.550400\n",
      "Epoch 21, CIFAR-10 Batch 1:  Loss:     1.1655 Validation Accuracy: 0.546800\n",
      "Epoch 22, CIFAR-10 Batch 1:  Loss:     1.1281 Validation Accuracy: 0.553600\n",
      "Epoch 23, CIFAR-10 Batch 1:  Loss:     1.1068 Validation Accuracy: 0.558400\n",
      "Epoch 24, CIFAR-10 Batch 1:  Loss:     1.0779 Validation Accuracy: 0.561600\n",
      "Epoch 25, CIFAR-10 Batch 1:  Loss:     1.0652 Validation Accuracy: 0.563600\n",
      "Epoch 26, CIFAR-10 Batch 1:  Loss:     1.0420 Validation Accuracy: 0.567000\n",
      "Epoch 27, CIFAR-10 Batch 1:  Loss:     1.0172 Validation Accuracy: 0.575400\n",
      "Epoch 28, CIFAR-10 Batch 1:  Loss:     0.9890 Validation Accuracy: 0.576800\n",
      "Epoch 29, CIFAR-10 Batch 1:  Loss:     1.0141 Validation Accuracy: 0.573800\n",
      "Epoch 30, CIFAR-10 Batch 1:  Loss:     0.9654 Validation Accuracy: 0.585600\n",
      "Epoch 31, CIFAR-10 Batch 1:  Loss:     0.9821 Validation Accuracy: 0.581400\n",
      "Epoch 32, CIFAR-10 Batch 1:  Loss:     0.9531 Validation Accuracy: 0.584400\n",
      "Epoch 33, CIFAR-10 Batch 1:  Loss:     0.9281 Validation Accuracy: 0.584600\n",
      "Epoch 34, CIFAR-10 Batch 1:  Loss:     0.9175 Validation Accuracy: 0.584000\n",
      "Epoch 35, CIFAR-10 Batch 1:  Loss:     0.8818 Validation Accuracy: 0.591000\n",
      "Epoch 36, CIFAR-10 Batch 1:  Loss:     0.8760 Validation Accuracy: 0.595800\n",
      "Epoch 37, CIFAR-10 Batch 1:  Loss:     0.8756 Validation Accuracy: 0.595000\n",
      "Epoch 38, CIFAR-10 Batch 1:  Loss:     0.8472 Validation Accuracy: 0.593400\n",
      "Epoch 39, CIFAR-10 Batch 1:  Loss:     0.8501 Validation Accuracy: 0.602200\n",
      "Epoch 40, CIFAR-10 Batch 1:  Loss:     0.8147 Validation Accuracy: 0.602400\n",
      "Epoch 41, CIFAR-10 Batch 1:  Loss:     0.8160 Validation Accuracy: 0.600400\n",
      "Epoch 42, CIFAR-10 Batch 1:  Loss:     0.8005 Validation Accuracy: 0.601400\n",
      "Epoch 43, CIFAR-10 Batch 1:  Loss:     0.7976 Validation Accuracy: 0.605000\n",
      "Epoch 44, CIFAR-10 Batch 1:  Loss:     0.7872 Validation Accuracy: 0.603000\n",
      "Epoch 45, CIFAR-10 Batch 1:  Loss:     0.7586 Validation Accuracy: 0.606800\n",
      "Epoch 46, CIFAR-10 Batch 1:  Loss:     0.7710 Validation Accuracy: 0.599000\n",
      "Epoch 47, CIFAR-10 Batch 1:  Loss:     0.7401 Validation Accuracy: 0.611400\n",
      "Epoch 48, CIFAR-10 Batch 1:  Loss:     0.7435 Validation Accuracy: 0.610000\n",
      "Epoch 49, CIFAR-10 Batch 1:  Loss:     0.7048 Validation Accuracy: 0.614200\n",
      "Epoch 50, CIFAR-10 Batch 1:  Loss:     0.6962 Validation Accuracy: 0.613000\n",
      "Epoch 51, CIFAR-10 Batch 1:  Loss:     0.7233 Validation Accuracy: 0.620200\n",
      "Epoch 52, CIFAR-10 Batch 1:  Loss:     0.6888 Validation Accuracy: 0.615000\n",
      "Epoch 53, CIFAR-10 Batch 1:  Loss:     0.6494 Validation Accuracy: 0.617000\n",
      "Epoch 54, CIFAR-10 Batch 1:  Loss:     0.6531 Validation Accuracy: 0.616600\n",
      "Epoch 55, CIFAR-10 Batch 1:  Loss:     0.6503 Validation Accuracy: 0.618800\n",
      "Epoch 56, CIFAR-10 Batch 1:  Loss:     0.6369 Validation Accuracy: 0.615800\n",
      "Epoch 57, CIFAR-10 Batch 1:  Loss:     0.6198 Validation Accuracy: 0.627000\n",
      "Epoch 58, CIFAR-10 Batch 1:  Loss:     0.6195 Validation Accuracy: 0.619200\n",
      "Epoch 59, CIFAR-10 Batch 1:  Loss:     0.6131 Validation Accuracy: 0.620200\n",
      "Epoch 60, CIFAR-10 Batch 1:  Loss:     0.5893 Validation Accuracy: 0.620400\n",
      "Epoch 61, CIFAR-10 Batch 1:  Loss:     0.5882 Validation Accuracy: 0.623600\n",
      "Epoch 62, CIFAR-10 Batch 1:  Loss:     0.5788 Validation Accuracy: 0.624800\n",
      "Epoch 63, CIFAR-10 Batch 1:  Loss:     0.5695 Validation Accuracy: 0.621400\n",
      "Epoch 64, CIFAR-10 Batch 1:  Loss:     0.5644 Validation Accuracy: 0.627000\n",
      "Epoch 65, CIFAR-10 Batch 1:  Loss:     0.5411 Validation Accuracy: 0.624400\n",
      "Epoch 66, CIFAR-10 Batch 1:  Loss:     0.5376 Validation Accuracy: 0.625000\n",
      "Epoch 67, CIFAR-10 Batch 1:  Loss:     0.5383 Validation Accuracy: 0.623600\n",
      "Epoch 68, CIFAR-10 Batch 1:  Loss:     0.5041 Validation Accuracy: 0.626200\n",
      "Epoch 69, CIFAR-10 Batch 1:  Loss:     0.5083 Validation Accuracy: 0.632200\n",
      "Epoch 70, CIFAR-10 Batch 1:  Loss:     0.5055 Validation Accuracy: 0.626600\n",
      "Epoch 71, CIFAR-10 Batch 1:  Loss:     0.4927 Validation Accuracy: 0.626400\n",
      "Epoch 72, CIFAR-10 Batch 1:  Loss:     0.4821 Validation Accuracy: 0.628200\n",
      "Epoch 73, CIFAR-10 Batch 1:  Loss:     0.4780 Validation Accuracy: 0.631000\n",
      "Epoch 74, CIFAR-10 Batch 1:  Loss:     0.4749 Validation Accuracy: 0.630400\n",
      "Epoch 75, CIFAR-10 Batch 1:  Loss:     0.4587 Validation Accuracy: 0.639400\n",
      "Epoch 76, CIFAR-10 Batch 1:  Loss:     0.4609 Validation Accuracy: 0.629200\n",
      "Epoch 77, CIFAR-10 Batch 1:  Loss:     0.4302 Validation Accuracy: 0.630600\n",
      "Epoch 78, CIFAR-10 Batch 1:  Loss:     0.4242 Validation Accuracy: 0.636000\n",
      "Epoch 79, CIFAR-10 Batch 1:  Loss:     0.4216 Validation Accuracy: 0.635400\n",
      "Epoch 80, CIFAR-10 Batch 1:  Loss:     0.4216 Validation Accuracy: 0.630800\n",
      "Epoch 81, CIFAR-10 Batch 1:  Loss:     0.4177 Validation Accuracy: 0.636200\n",
      "Epoch 82, CIFAR-10 Batch 1:  Loss:     0.3975 Validation Accuracy: 0.632000\n",
      "Epoch 83, CIFAR-10 Batch 1:  Loss:     0.4068 Validation Accuracy: 0.635600\n",
      "Epoch 84, CIFAR-10 Batch 1:  Loss:     0.3990 Validation Accuracy: 0.637800\n",
      "Epoch 85, CIFAR-10 Batch 1:  Loss:     0.3902 Validation Accuracy: 0.635400\n",
      "Epoch 86, CIFAR-10 Batch 1:  Loss:     0.3754 Validation Accuracy: 0.635400\n",
      "Epoch 87, CIFAR-10 Batch 1:  Loss:     0.3633 Validation Accuracy: 0.637000\n",
      "Epoch 88, CIFAR-10 Batch 1:  Loss:     0.3761 Validation Accuracy: 0.641200\n",
      "Epoch 89, CIFAR-10 Batch 1:  Loss:     0.3708 Validation Accuracy: 0.636800\n",
      "Epoch 90, CIFAR-10 Batch 1:  Loss:     0.3565 Validation Accuracy: 0.629400\n",
      "Epoch 91, CIFAR-10 Batch 1:  Loss:     0.3565 Validation Accuracy: 0.634200\n",
      "Epoch 92, CIFAR-10 Batch 1:  Loss:     0.3382 Validation Accuracy: 0.641600\n",
      "Epoch 93, CIFAR-10 Batch 1:  Loss:     0.3324 Validation Accuracy: 0.638400\n",
      "Epoch 94, CIFAR-10 Batch 1:  Loss:     0.3258 Validation Accuracy: 0.639000\n",
      "Epoch 95, CIFAR-10 Batch 1:  Loss:     0.3271 Validation Accuracy: 0.645000\n",
      "Epoch 96, CIFAR-10 Batch 1:  Loss:     0.3234 Validation Accuracy: 0.639400\n",
      "Epoch 97, CIFAR-10 Batch 1:  Loss:     0.3133 Validation Accuracy: 0.639800\n",
      "Epoch 98, CIFAR-10 Batch 1:  Loss:     0.3206 Validation Accuracy: 0.642400\n",
      "Epoch 99, CIFAR-10 Batch 1:  Loss:     0.3161 Validation Accuracy: 0.639800\n",
      "Epoch 100, CIFAR-10 Batch 1:  Loss:     0.3074 Validation Accuracy: 0.639600\n"
     ]
    }
   ],
   "source": [
    "print('Checking the Training on a Single Batch...')\n",
    "\n",
    "with tf.Session() as sess:\n",
    "    # Initializing the variables\n",
    "    sess.run(tf.global_variables_initializer())\n",
    "    \n",
    "    # Training cycle\n",
    "    for epoch in range(epochs):\n",
    "        batch_i = 1\n",
    "        for batch_features, batch_labels in load_preprocess_training_batch(batch_i, batch_size):\n",
    "            train_neural_network(sess, optimizer, keep_probability, batch_features, batch_labels)\n",
    "        print('Epoch {:>2}, CIFAR-10 Batch {}:  '.format(epoch + 1, batch_i), end='')\n",
    "        print_stats(sess, batch_features, batch_labels, cost, accuracy)"
   ]
  },
  {
   "cell_type": "markdown",
   "metadata": {
    "collapsed": true
   },
   "source": [
    "#### Fully Train the Model"
   ]
  },
  {
   "cell_type": "code",
   "execution_count": 31,
   "metadata": {},
   "outputs": [
    {
     "name": "stdout",
     "output_type": "stream",
     "text": [
      "Training...\n",
      "Epoch  1, CIFAR-10 Batch 1:  Loss:     2.2826 Validation Accuracy: 0.113800\n",
      "Epoch  1, CIFAR-10 Batch 2:  Loss:     2.0710 Validation Accuracy: 0.329400\n",
      "Epoch  1, CIFAR-10 Batch 3:  Loss:     1.7842 Validation Accuracy: 0.338400\n",
      "Epoch  1, CIFAR-10 Batch 4:  Loss:     1.6759 Validation Accuracy: 0.386800\n",
      "Epoch  1, CIFAR-10 Batch 5:  Loss:     1.7137 Validation Accuracy: 0.386600\n",
      "Epoch  2, CIFAR-10 Batch 1:  Loss:     1.7106 Validation Accuracy: 0.414200\n",
      "Epoch  2, CIFAR-10 Batch 2:  Loss:     1.5837 Validation Accuracy: 0.428600\n",
      "Epoch  2, CIFAR-10 Batch 3:  Loss:     1.4612 Validation Accuracy: 0.443200\n",
      "Epoch  2, CIFAR-10 Batch 4:  Loss:     1.4358 Validation Accuracy: 0.459600\n",
      "Epoch  2, CIFAR-10 Batch 5:  Loss:     1.5221 Validation Accuracy: 0.464800\n",
      "Epoch  3, CIFAR-10 Batch 1:  Loss:     1.5375 Validation Accuracy: 0.474800\n",
      "Epoch  3, CIFAR-10 Batch 2:  Loss:     1.4382 Validation Accuracy: 0.481400\n",
      "Epoch  3, CIFAR-10 Batch 3:  Loss:     1.2986 Validation Accuracy: 0.485600\n",
      "Epoch  3, CIFAR-10 Batch 4:  Loss:     1.3187 Validation Accuracy: 0.501600\n",
      "Epoch  3, CIFAR-10 Batch 5:  Loss:     1.4056 Validation Accuracy: 0.509000\n",
      "Epoch  4, CIFAR-10 Batch 1:  Loss:     1.4299 Validation Accuracy: 0.515800\n",
      "Epoch  4, CIFAR-10 Batch 2:  Loss:     1.3386 Validation Accuracy: 0.515400\n",
      "Epoch  4, CIFAR-10 Batch 3:  Loss:     1.2291 Validation Accuracy: 0.509800\n",
      "Epoch  4, CIFAR-10 Batch 4:  Loss:     1.2206 Validation Accuracy: 0.530400\n",
      "Epoch  4, CIFAR-10 Batch 5:  Loss:     1.2934 Validation Accuracy: 0.531800\n",
      "Epoch  5, CIFAR-10 Batch 1:  Loss:     1.3624 Validation Accuracy: 0.542600\n",
      "Epoch  5, CIFAR-10 Batch 2:  Loss:     1.2536 Validation Accuracy: 0.536400\n",
      "Epoch  5, CIFAR-10 Batch 3:  Loss:     1.1544 Validation Accuracy: 0.535000\n",
      "Epoch  5, CIFAR-10 Batch 4:  Loss:     1.1708 Validation Accuracy: 0.551600\n",
      "Epoch  5, CIFAR-10 Batch 5:  Loss:     1.2163 Validation Accuracy: 0.552600\n",
      "Epoch  6, CIFAR-10 Batch 1:  Loss:     1.3098 Validation Accuracy: 0.567800\n",
      "Epoch  6, CIFAR-10 Batch 2:  Loss:     1.1745 Validation Accuracy: 0.565200\n",
      "Epoch  6, CIFAR-10 Batch 3:  Loss:     1.1133 Validation Accuracy: 0.555800\n",
      "Epoch  6, CIFAR-10 Batch 4:  Loss:     1.1041 Validation Accuracy: 0.572600\n",
      "Epoch  6, CIFAR-10 Batch 5:  Loss:     1.1604 Validation Accuracy: 0.571400\n",
      "Epoch  7, CIFAR-10 Batch 1:  Loss:     1.2664 Validation Accuracy: 0.580800\n",
      "Epoch  7, CIFAR-10 Batch 2:  Loss:     1.1382 Validation Accuracy: 0.573200\n",
      "Epoch  7, CIFAR-10 Batch 3:  Loss:     1.0765 Validation Accuracy: 0.569000\n",
      "Epoch  7, CIFAR-10 Batch 4:  Loss:     1.0691 Validation Accuracy: 0.584400\n",
      "Epoch  7, CIFAR-10 Batch 5:  Loss:     1.1093 Validation Accuracy: 0.588400\n",
      "Epoch  8, CIFAR-10 Batch 1:  Loss:     1.2373 Validation Accuracy: 0.591400\n",
      "Epoch  8, CIFAR-10 Batch 2:  Loss:     1.0852 Validation Accuracy: 0.589600\n",
      "Epoch  8, CIFAR-10 Batch 3:  Loss:     1.0319 Validation Accuracy: 0.582200\n",
      "Epoch  8, CIFAR-10 Batch 4:  Loss:     1.0230 Validation Accuracy: 0.589200\n",
      "Epoch  8, CIFAR-10 Batch 5:  Loss:     1.0590 Validation Accuracy: 0.597600\n",
      "Epoch  9, CIFAR-10 Batch 1:  Loss:     1.2010 Validation Accuracy: 0.597000\n",
      "Epoch  9, CIFAR-10 Batch 2:  Loss:     1.0638 Validation Accuracy: 0.605400\n",
      "Epoch  9, CIFAR-10 Batch 3:  Loss:     1.0269 Validation Accuracy: 0.591600\n",
      "Epoch  9, CIFAR-10 Batch 4:  Loss:     0.9977 Validation Accuracy: 0.607400\n",
      "Epoch  9, CIFAR-10 Batch 5:  Loss:     1.0342 Validation Accuracy: 0.604600\n",
      "Epoch 10, CIFAR-10 Batch 1:  Loss:     1.2041 Validation Accuracy: 0.599800\n",
      "Epoch 10, CIFAR-10 Batch 2:  Loss:     1.0288 Validation Accuracy: 0.611200\n",
      "Epoch 10, CIFAR-10 Batch 3:  Loss:     0.9938 Validation Accuracy: 0.599400\n",
      "Epoch 10, CIFAR-10 Batch 4:  Loss:     0.9866 Validation Accuracy: 0.606200\n",
      "Epoch 10, CIFAR-10 Batch 5:  Loss:     1.0077 Validation Accuracy: 0.615600\n",
      "Epoch 11, CIFAR-10 Batch 1:  Loss:     1.1445 Validation Accuracy: 0.618800\n",
      "Epoch 11, CIFAR-10 Batch 2:  Loss:     0.9817 Validation Accuracy: 0.619400\n",
      "Epoch 11, CIFAR-10 Batch 3:  Loss:     0.9653 Validation Accuracy: 0.608000\n",
      "Epoch 11, CIFAR-10 Batch 4:  Loss:     0.9478 Validation Accuracy: 0.618600\n",
      "Epoch 11, CIFAR-10 Batch 5:  Loss:     0.9868 Validation Accuracy: 0.620800\n",
      "Epoch 12, CIFAR-10 Batch 1:  Loss:     1.1155 Validation Accuracy: 0.611800\n",
      "Epoch 12, CIFAR-10 Batch 2:  Loss:     0.9787 Validation Accuracy: 0.620200\n",
      "Epoch 12, CIFAR-10 Batch 3:  Loss:     0.9073 Validation Accuracy: 0.617600\n",
      "Epoch 12, CIFAR-10 Batch 4:  Loss:     0.9179 Validation Accuracy: 0.625800\n",
      "Epoch 12, CIFAR-10 Batch 5:  Loss:     0.9431 Validation Accuracy: 0.628400\n",
      "Epoch 13, CIFAR-10 Batch 1:  Loss:     1.0712 Validation Accuracy: 0.628800\n",
      "Epoch 13, CIFAR-10 Batch 2:  Loss:     0.9459 Validation Accuracy: 0.630400\n",
      "Epoch 13, CIFAR-10 Batch 3:  Loss:     0.8944 Validation Accuracy: 0.625200\n",
      "Epoch 13, CIFAR-10 Batch 4:  Loss:     0.9010 Validation Accuracy: 0.631400\n",
      "Epoch 13, CIFAR-10 Batch 5:  Loss:     0.9395 Validation Accuracy: 0.635000\n",
      "Epoch 14, CIFAR-10 Batch 1:  Loss:     1.0469 Validation Accuracy: 0.641600\n",
      "Epoch 14, CIFAR-10 Batch 2:  Loss:     0.9214 Validation Accuracy: 0.628200\n",
      "Epoch 14, CIFAR-10 Batch 3:  Loss:     0.9085 Validation Accuracy: 0.629400\n",
      "Epoch 14, CIFAR-10 Batch 4:  Loss:     0.8947 Validation Accuracy: 0.635600\n",
      "Epoch 14, CIFAR-10 Batch 5:  Loss:     0.9079 Validation Accuracy: 0.644000\n",
      "Epoch 15, CIFAR-10 Batch 1:  Loss:     1.0335 Validation Accuracy: 0.644400\n",
      "Epoch 15, CIFAR-10 Batch 2:  Loss:     0.9254 Validation Accuracy: 0.637000\n",
      "Epoch 15, CIFAR-10 Batch 3:  Loss:     0.8949 Validation Accuracy: 0.627000\n",
      "Epoch 15, CIFAR-10 Batch 4:  Loss:     0.8895 Validation Accuracy: 0.645000\n",
      "Epoch 15, CIFAR-10 Batch 5:  Loss:     0.8894 Validation Accuracy: 0.639800\n",
      "Epoch 16, CIFAR-10 Batch 1:  Loss:     1.0212 Validation Accuracy: 0.634600\n",
      "Epoch 16, CIFAR-10 Batch 2:  Loss:     0.9097 Validation Accuracy: 0.639000\n",
      "Epoch 16, CIFAR-10 Batch 3:  Loss:     0.8719 Validation Accuracy: 0.634800\n",
      "Epoch 16, CIFAR-10 Batch 4:  Loss:     0.8648 Validation Accuracy: 0.642200\n",
      "Epoch 16, CIFAR-10 Batch 5:  Loss:     0.8766 Validation Accuracy: 0.644600\n",
      "Epoch 17, CIFAR-10 Batch 1:  Loss:     1.0036 Validation Accuracy: 0.646600\n",
      "Epoch 17, CIFAR-10 Batch 2:  Loss:     0.8822 Validation Accuracy: 0.650600\n",
      "Epoch 17, CIFAR-10 Batch 3:  Loss:     0.8567 Validation Accuracy: 0.643200\n",
      "Epoch 17, CIFAR-10 Batch 4:  Loss:     0.8361 Validation Accuracy: 0.646200\n",
      "Epoch 17, CIFAR-10 Batch 5:  Loss:     0.8590 Validation Accuracy: 0.645800\n",
      "Epoch 18, CIFAR-10 Batch 1:  Loss:     0.9850 Validation Accuracy: 0.647600\n",
      "Epoch 18, CIFAR-10 Batch 2:  Loss:     0.8652 Validation Accuracy: 0.654200\n",
      "Epoch 18, CIFAR-10 Batch 3:  Loss:     0.8439 Validation Accuracy: 0.646400\n",
      "Epoch 18, CIFAR-10 Batch 4:  Loss:     0.8408 Validation Accuracy: 0.647800\n",
      "Epoch 18, CIFAR-10 Batch 5:  Loss:     0.8255 Validation Accuracy: 0.652400\n",
      "Epoch 19, CIFAR-10 Batch 1:  Loss:     0.9736 Validation Accuracy: 0.653600\n",
      "Epoch 19, CIFAR-10 Batch 2:  Loss:     0.8604 Validation Accuracy: 0.654800\n",
      "Epoch 19, CIFAR-10 Batch 3:  Loss:     0.8202 Validation Accuracy: 0.650000\n",
      "Epoch 19, CIFAR-10 Batch 4:  Loss:     0.8067 Validation Accuracy: 0.661400\n",
      "Epoch 19, CIFAR-10 Batch 5:  Loss:     0.8228 Validation Accuracy: 0.652200\n",
      "Epoch 20, CIFAR-10 Batch 1:  Loss:     0.9418 Validation Accuracy: 0.662000\n",
      "Epoch 20, CIFAR-10 Batch 2:  Loss:     0.8383 Validation Accuracy: 0.656600\n",
      "Epoch 20, CIFAR-10 Batch 3:  Loss:     0.8068 Validation Accuracy: 0.651400\n",
      "Epoch 20, CIFAR-10 Batch 4:  Loss:     0.8031 Validation Accuracy: 0.656600\n",
      "Epoch 20, CIFAR-10 Batch 5:  Loss:     0.7869 Validation Accuracy: 0.658000\n",
      "Epoch 21, CIFAR-10 Batch 1:  Loss:     0.9354 Validation Accuracy: 0.649200\n",
      "Epoch 21, CIFAR-10 Batch 2:  Loss:     0.8223 Validation Accuracy: 0.660400\n",
      "Epoch 21, CIFAR-10 Batch 3:  Loss:     0.8158 Validation Accuracy: 0.658200\n",
      "Epoch 21, CIFAR-10 Batch 4:  Loss:     0.8182 Validation Accuracy: 0.650000\n",
      "Epoch 21, CIFAR-10 Batch 5:  Loss:     0.8012 Validation Accuracy: 0.651000\n",
      "Epoch 22, CIFAR-10 Batch 1:  Loss:     0.9238 Validation Accuracy: 0.666200\n",
      "Epoch 22, CIFAR-10 Batch 2:  Loss:     0.8110 Validation Accuracy: 0.654400\n"
     ]
    },
    {
     "name": "stdout",
     "output_type": "stream",
     "text": [
      "Epoch 22, CIFAR-10 Batch 3:  Loss:     0.7838 Validation Accuracy: 0.658600\n",
      "Epoch 22, CIFAR-10 Batch 4:  Loss:     0.7720 Validation Accuracy: 0.660600\n",
      "Epoch 22, CIFAR-10 Batch 5:  Loss:     0.7727 Validation Accuracy: 0.661200\n",
      "Epoch 23, CIFAR-10 Batch 1:  Loss:     0.9052 Validation Accuracy: 0.666800\n",
      "Epoch 23, CIFAR-10 Batch 2:  Loss:     0.7923 Validation Accuracy: 0.665200\n",
      "Epoch 23, CIFAR-10 Batch 3:  Loss:     0.7900 Validation Accuracy: 0.653800\n",
      "Epoch 23, CIFAR-10 Batch 4:  Loss:     0.7670 Validation Accuracy: 0.667600\n",
      "Epoch 23, CIFAR-10 Batch 5:  Loss:     0.7696 Validation Accuracy: 0.661800\n",
      "Epoch 24, CIFAR-10 Batch 1:  Loss:     0.8886 Validation Accuracy: 0.663400\n",
      "Epoch 24, CIFAR-10 Batch 2:  Loss:     0.7861 Validation Accuracy: 0.662800\n",
      "Epoch 24, CIFAR-10 Batch 3:  Loss:     0.7498 Validation Accuracy: 0.666800\n",
      "Epoch 24, CIFAR-10 Batch 4:  Loss:     0.7633 Validation Accuracy: 0.664000\n",
      "Epoch 24, CIFAR-10 Batch 5:  Loss:     0.7355 Validation Accuracy: 0.665000\n",
      "Epoch 25, CIFAR-10 Batch 1:  Loss:     0.8772 Validation Accuracy: 0.665400\n",
      "Epoch 25, CIFAR-10 Batch 2:  Loss:     0.7592 Validation Accuracy: 0.673800\n",
      "Epoch 25, CIFAR-10 Batch 3:  Loss:     0.7403 Validation Accuracy: 0.669000\n",
      "Epoch 25, CIFAR-10 Batch 4:  Loss:     0.7447 Validation Accuracy: 0.673600\n",
      "Epoch 25, CIFAR-10 Batch 5:  Loss:     0.7406 Validation Accuracy: 0.669400\n",
      "Epoch 26, CIFAR-10 Batch 1:  Loss:     0.8460 Validation Accuracy: 0.675000\n",
      "Epoch 26, CIFAR-10 Batch 2:  Loss:     0.7578 Validation Accuracy: 0.671800\n",
      "Epoch 26, CIFAR-10 Batch 3:  Loss:     0.7528 Validation Accuracy: 0.666000\n",
      "Epoch 26, CIFAR-10 Batch 4:  Loss:     0.7422 Validation Accuracy: 0.665400\n",
      "Epoch 26, CIFAR-10 Batch 5:  Loss:     0.7181 Validation Accuracy: 0.675800\n",
      "Epoch 27, CIFAR-10 Batch 1:  Loss:     0.8511 Validation Accuracy: 0.672400\n",
      "Epoch 27, CIFAR-10 Batch 2:  Loss:     0.7841 Validation Accuracy: 0.672200\n",
      "Epoch 27, CIFAR-10 Batch 3:  Loss:     0.7324 Validation Accuracy: 0.665800\n",
      "Epoch 27, CIFAR-10 Batch 4:  Loss:     0.7315 Validation Accuracy: 0.676200\n",
      "Epoch 27, CIFAR-10 Batch 5:  Loss:     0.6897 Validation Accuracy: 0.673800\n",
      "Epoch 28, CIFAR-10 Batch 1:  Loss:     0.8415 Validation Accuracy: 0.675000\n",
      "Epoch 28, CIFAR-10 Batch 2:  Loss:     0.7565 Validation Accuracy: 0.676000\n",
      "Epoch 28, CIFAR-10 Batch 3:  Loss:     0.7241 Validation Accuracy: 0.676200\n",
      "Epoch 28, CIFAR-10 Batch 4:  Loss:     0.7105 Validation Accuracy: 0.676600\n",
      "Epoch 28, CIFAR-10 Batch 5:  Loss:     0.7291 Validation Accuracy: 0.672400\n",
      "Epoch 29, CIFAR-10 Batch 1:  Loss:     0.8361 Validation Accuracy: 0.678000\n",
      "Epoch 29, CIFAR-10 Batch 2:  Loss:     0.7272 Validation Accuracy: 0.685000\n",
      "Epoch 29, CIFAR-10 Batch 3:  Loss:     0.7216 Validation Accuracy: 0.672800\n",
      "Epoch 29, CIFAR-10 Batch 4:  Loss:     0.7169 Validation Accuracy: 0.676000\n",
      "Epoch 29, CIFAR-10 Batch 5:  Loss:     0.6792 Validation Accuracy: 0.675200\n",
      "Epoch 30, CIFAR-10 Batch 1:  Loss:     0.8426 Validation Accuracy: 0.676200\n",
      "Epoch 30, CIFAR-10 Batch 2:  Loss:     0.7207 Validation Accuracy: 0.679000\n",
      "Epoch 30, CIFAR-10 Batch 3:  Loss:     0.7119 Validation Accuracy: 0.674400\n",
      "Epoch 30, CIFAR-10 Batch 4:  Loss:     0.7182 Validation Accuracy: 0.676000\n",
      "Epoch 30, CIFAR-10 Batch 5:  Loss:     0.6716 Validation Accuracy: 0.674600\n",
      "Epoch 31, CIFAR-10 Batch 1:  Loss:     0.8196 Validation Accuracy: 0.674000\n",
      "Epoch 31, CIFAR-10 Batch 2:  Loss:     0.7033 Validation Accuracy: 0.680600\n",
      "Epoch 31, CIFAR-10 Batch 3:  Loss:     0.7129 Validation Accuracy: 0.674000\n",
      "Epoch 31, CIFAR-10 Batch 4:  Loss:     0.6957 Validation Accuracy: 0.678000\n",
      "Epoch 31, CIFAR-10 Batch 5:  Loss:     0.6743 Validation Accuracy: 0.674800\n",
      "Epoch 32, CIFAR-10 Batch 1:  Loss:     0.8013 Validation Accuracy: 0.681800\n",
      "Epoch 32, CIFAR-10 Batch 2:  Loss:     0.7110 Validation Accuracy: 0.682600\n",
      "Epoch 32, CIFAR-10 Batch 3:  Loss:     0.6969 Validation Accuracy: 0.680200\n",
      "Epoch 32, CIFAR-10 Batch 4:  Loss:     0.6948 Validation Accuracy: 0.682200\n",
      "Epoch 32, CIFAR-10 Batch 5:  Loss:     0.6907 Validation Accuracy: 0.678800\n",
      "Epoch 33, CIFAR-10 Batch 1:  Loss:     0.8107 Validation Accuracy: 0.686000\n",
      "Epoch 33, CIFAR-10 Batch 2:  Loss:     0.7295 Validation Accuracy: 0.685400\n",
      "Epoch 33, CIFAR-10 Batch 3:  Loss:     0.6956 Validation Accuracy: 0.676800\n",
      "Epoch 33, CIFAR-10 Batch 4:  Loss:     0.6782 Validation Accuracy: 0.684000\n",
      "Epoch 33, CIFAR-10 Batch 5:  Loss:     0.6568 Validation Accuracy: 0.685800\n",
      "Epoch 34, CIFAR-10 Batch 1:  Loss:     0.7740 Validation Accuracy: 0.688000\n",
      "Epoch 34, CIFAR-10 Batch 2:  Loss:     0.7004 Validation Accuracy: 0.692000\n",
      "Epoch 34, CIFAR-10 Batch 3:  Loss:     0.6904 Validation Accuracy: 0.676400\n",
      "Epoch 34, CIFAR-10 Batch 4:  Loss:     0.6657 Validation Accuracy: 0.686600\n",
      "Epoch 34, CIFAR-10 Batch 5:  Loss:     0.6524 Validation Accuracy: 0.681400\n",
      "Epoch 35, CIFAR-10 Batch 1:  Loss:     0.7782 Validation Accuracy: 0.683600\n",
      "Epoch 35, CIFAR-10 Batch 2:  Loss:     0.6908 Validation Accuracy: 0.690200\n",
      "Epoch 35, CIFAR-10 Batch 3:  Loss:     0.6790 Validation Accuracy: 0.682400\n",
      "Epoch 35, CIFAR-10 Batch 4:  Loss:     0.6682 Validation Accuracy: 0.687400\n",
      "Epoch 35, CIFAR-10 Batch 5:  Loss:     0.6526 Validation Accuracy: 0.686400\n",
      "Epoch 36, CIFAR-10 Batch 1:  Loss:     0.7625 Validation Accuracy: 0.683600\n",
      "Epoch 36, CIFAR-10 Batch 2:  Loss:     0.6860 Validation Accuracy: 0.684800\n",
      "Epoch 36, CIFAR-10 Batch 3:  Loss:     0.6916 Validation Accuracy: 0.680200\n",
      "Epoch 36, CIFAR-10 Batch 4:  Loss:     0.6572 Validation Accuracy: 0.681600\n",
      "Epoch 36, CIFAR-10 Batch 5:  Loss:     0.6320 Validation Accuracy: 0.687400\n",
      "Epoch 37, CIFAR-10 Batch 1:  Loss:     0.7516 Validation Accuracy: 0.688200\n",
      "Epoch 37, CIFAR-10 Batch 2:  Loss:     0.6834 Validation Accuracy: 0.677800\n",
      "Epoch 37, CIFAR-10 Batch 3:  Loss:     0.6769 Validation Accuracy: 0.677000\n",
      "Epoch 37, CIFAR-10 Batch 4:  Loss:     0.6599 Validation Accuracy: 0.688800\n",
      "Epoch 37, CIFAR-10 Batch 5:  Loss:     0.6266 Validation Accuracy: 0.693800\n",
      "Epoch 38, CIFAR-10 Batch 1:  Loss:     0.7632 Validation Accuracy: 0.680600\n",
      "Epoch 38, CIFAR-10 Batch 2:  Loss:     0.6573 Validation Accuracy: 0.689600\n",
      "Epoch 38, CIFAR-10 Batch 3:  Loss:     0.6599 Validation Accuracy: 0.687800\n",
      "Epoch 38, CIFAR-10 Batch 4:  Loss:     0.6415 Validation Accuracy: 0.691600\n",
      "Epoch 38, CIFAR-10 Batch 5:  Loss:     0.6056 Validation Accuracy: 0.690600\n",
      "Epoch 39, CIFAR-10 Batch 1:  Loss:     0.7452 Validation Accuracy: 0.693400\n",
      "Epoch 39, CIFAR-10 Batch 2:  Loss:     0.6398 Validation Accuracy: 0.688200\n",
      "Epoch 39, CIFAR-10 Batch 3:  Loss:     0.6436 Validation Accuracy: 0.688000\n",
      "Epoch 39, CIFAR-10 Batch 4:  Loss:     0.6536 Validation Accuracy: 0.686600\n",
      "Epoch 39, CIFAR-10 Batch 5:  Loss:     0.5987 Validation Accuracy: 0.688800\n",
      "Epoch 40, CIFAR-10 Batch 1:  Loss:     0.7242 Validation Accuracy: 0.689400\n",
      "Epoch 40, CIFAR-10 Batch 2:  Loss:     0.6572 Validation Accuracy: 0.693400\n",
      "Epoch 40, CIFAR-10 Batch 3:  Loss:     0.6231 Validation Accuracy: 0.693200\n",
      "Epoch 40, CIFAR-10 Batch 4:  Loss:     0.6272 Validation Accuracy: 0.697200\n",
      "Epoch 40, CIFAR-10 Batch 5:  Loss:     0.5891 Validation Accuracy: 0.688200\n",
      "Epoch 41, CIFAR-10 Batch 1:  Loss:     0.7221 Validation Accuracy: 0.691200\n",
      "Epoch 41, CIFAR-10 Batch 2:  Loss:     0.6588 Validation Accuracy: 0.693600\n",
      "Epoch 41, CIFAR-10 Batch 3:  Loss:     0.6258 Validation Accuracy: 0.687400\n",
      "Epoch 41, CIFAR-10 Batch 4:  Loss:     0.6236 Validation Accuracy: 0.688800\n",
      "Epoch 41, CIFAR-10 Batch 5:  Loss:     0.6084 Validation Accuracy: 0.689400\n",
      "Epoch 42, CIFAR-10 Batch 1:  Loss:     0.7187 Validation Accuracy: 0.692600\n",
      "Epoch 42, CIFAR-10 Batch 2:  Loss:     0.6538 Validation Accuracy: 0.695400\n",
      "Epoch 42, CIFAR-10 Batch 3:  Loss:     0.6295 Validation Accuracy: 0.687800\n",
      "Epoch 42, CIFAR-10 Batch 4:  Loss:     0.6186 Validation Accuracy: 0.687200\n",
      "Epoch 42, CIFAR-10 Batch 5:  Loss:     0.5843 Validation Accuracy: 0.689200\n",
      "Epoch 43, CIFAR-10 Batch 1:  Loss:     0.7184 Validation Accuracy: 0.692200\n",
      "Epoch 43, CIFAR-10 Batch 2:  Loss:     0.6301 Validation Accuracy: 0.698600\n",
      "Epoch 43, CIFAR-10 Batch 3:  Loss:     0.6345 Validation Accuracy: 0.684800\n",
      "Epoch 43, CIFAR-10 Batch 4:  Loss:     0.6143 Validation Accuracy: 0.689600\n"
     ]
    },
    {
     "name": "stdout",
     "output_type": "stream",
     "text": [
      "Epoch 43, CIFAR-10 Batch 5:  Loss:     0.5850 Validation Accuracy: 0.697600\n",
      "Epoch 44, CIFAR-10 Batch 1:  Loss:     0.7020 Validation Accuracy: 0.693200\n",
      "Epoch 44, CIFAR-10 Batch 2:  Loss:     0.6358 Validation Accuracy: 0.698200\n",
      "Epoch 44, CIFAR-10 Batch 3:  Loss:     0.5996 Validation Accuracy: 0.686600\n",
      "Epoch 44, CIFAR-10 Batch 4:  Loss:     0.6057 Validation Accuracy: 0.688800\n",
      "Epoch 44, CIFAR-10 Batch 5:  Loss:     0.5898 Validation Accuracy: 0.692200\n",
      "Epoch 45, CIFAR-10 Batch 1:  Loss:     0.6962 Validation Accuracy: 0.691800\n",
      "Epoch 45, CIFAR-10 Batch 2:  Loss:     0.6318 Validation Accuracy: 0.696200\n",
      "Epoch 45, CIFAR-10 Batch 3:  Loss:     0.5932 Validation Accuracy: 0.695000\n",
      "Epoch 45, CIFAR-10 Batch 4:  Loss:     0.5885 Validation Accuracy: 0.695200\n",
      "Epoch 45, CIFAR-10 Batch 5:  Loss:     0.5590 Validation Accuracy: 0.701800\n",
      "Epoch 46, CIFAR-10 Batch 1:  Loss:     0.6972 Validation Accuracy: 0.692600\n",
      "Epoch 46, CIFAR-10 Batch 2:  Loss:     0.6142 Validation Accuracy: 0.697800\n",
      "Epoch 46, CIFAR-10 Batch 3:  Loss:     0.5980 Validation Accuracy: 0.685800\n",
      "Epoch 46, CIFAR-10 Batch 4:  Loss:     0.5889 Validation Accuracy: 0.696200\n",
      "Epoch 46, CIFAR-10 Batch 5:  Loss:     0.5603 Validation Accuracy: 0.699400\n",
      "Epoch 47, CIFAR-10 Batch 1:  Loss:     0.7188 Validation Accuracy: 0.696200\n",
      "Epoch 47, CIFAR-10 Batch 2:  Loss:     0.6237 Validation Accuracy: 0.697800\n",
      "Epoch 47, CIFAR-10 Batch 3:  Loss:     0.6011 Validation Accuracy: 0.693200\n",
      "Epoch 47, CIFAR-10 Batch 4:  Loss:     0.5870 Validation Accuracy: 0.697800\n",
      "Epoch 47, CIFAR-10 Batch 5:  Loss:     0.5538 Validation Accuracy: 0.700200\n",
      "Epoch 48, CIFAR-10 Batch 1:  Loss:     0.6844 Validation Accuracy: 0.695800\n",
      "Epoch 48, CIFAR-10 Batch 2:  Loss:     0.6065 Validation Accuracy: 0.698200\n",
      "Epoch 48, CIFAR-10 Batch 3:  Loss:     0.5793 Validation Accuracy: 0.691600\n",
      "Epoch 48, CIFAR-10 Batch 4:  Loss:     0.5765 Validation Accuracy: 0.695200\n",
      "Epoch 48, CIFAR-10 Batch 5:  Loss:     0.5748 Validation Accuracy: 0.695800\n",
      "Epoch 49, CIFAR-10 Batch 1:  Loss:     0.6824 Validation Accuracy: 0.696000\n",
      "Epoch 49, CIFAR-10 Batch 2:  Loss:     0.5984 Validation Accuracy: 0.695800\n",
      "Epoch 49, CIFAR-10 Batch 3:  Loss:     0.5762 Validation Accuracy: 0.697000\n",
      "Epoch 49, CIFAR-10 Batch 4:  Loss:     0.5777 Validation Accuracy: 0.695600\n",
      "Epoch 49, CIFAR-10 Batch 5:  Loss:     0.5599 Validation Accuracy: 0.694800\n",
      "Epoch 50, CIFAR-10 Batch 1:  Loss:     0.6655 Validation Accuracy: 0.695200\n",
      "Epoch 50, CIFAR-10 Batch 2:  Loss:     0.6123 Validation Accuracy: 0.699800\n",
      "Epoch 50, CIFAR-10 Batch 3:  Loss:     0.5966 Validation Accuracy: 0.689400\n",
      "Epoch 50, CIFAR-10 Batch 4:  Loss:     0.5720 Validation Accuracy: 0.697800\n",
      "Epoch 50, CIFAR-10 Batch 5:  Loss:     0.5592 Validation Accuracy: 0.697400\n"
     ]
    }
   ],
   "source": [
    "save_model_path = './image_classification'\n",
    "\n",
    "epochs = 50\n",
    "\n",
    "print('Training...')\n",
    "with tf.Session() as sess:\n",
    "    # Initializing the variables\n",
    "    sess.run(tf.global_variables_initializer())\n",
    "    \n",
    "    # Training cycle\n",
    "    for epoch in range(epochs):\n",
    "        # Loop over all batches\n",
    "        n_batches = 5\n",
    "        for batch_i in range(1, n_batches + 1):\n",
    "            for batch_features, batch_labels in load_preprocess_training_batch(batch_i, batch_size):\n",
    "                train_neural_network(sess, optimizer, keep_probability, batch_features, batch_labels)\n",
    "            print('Epoch {:>2}, CIFAR-10 Batch {}:  '.format(epoch + 1, batch_i), end='')\n",
    "            print_stats(sess, batch_features, batch_labels, cost, accuracy)\n",
    "            \n",
    "    # Save Model\n",
    "    saver = tf.train.Saver()\n",
    "    save_path = saver.save(sess, save_model_path)"
   ]
  },
  {
   "cell_type": "markdown",
   "metadata": {},
   "source": [
    "#### Test the model"
   ]
  },
  {
   "cell_type": "code",
   "execution_count": 35,
   "metadata": {},
   "outputs": [
    {
     "name": "stdout",
     "output_type": "stream",
     "text": [
      "INFO:tensorflow:Restoring parameters from ./image_classification\n",
      "Testing Accuracy: 0.6907801002264022\n",
      "\n"
     ]
    },
    {
     "data": {
      "image/png": "[encoded data removed]",
      "text/plain": [
       "<Figure size 432x288 with 8 Axes>"
      ]
     },
     "metadata": {
      "image/png": {
       "height": 319,
       "width": 355
      }
     },
     "output_type": "display_data"
    }
   ],
   "source": [
    "%matplotlib inline\n",
    "%config InlineBackend.figure_format = 'retina'\n",
    "\n",
    "import tensorflow as tf\n",
    "import pickle\n",
    "#import helper\n",
    "import random\n",
    "\n",
    "# Set batch size if not already set\n",
    "try:\n",
    "    if batch_size:\n",
    "        pass\n",
    "except NameError:\n",
    "    batch_size = 64\n",
    "\n",
    "save_model_path = './image_classification'\n",
    "n_samples = 4\n",
    "top_n_predictions = 3\n",
    "\n",
    "def test_model():\n",
    "    \"\"\"\n",
    "    Test the saved model against the test dataset\n",
    "    \"\"\"\n",
    "\n",
    "    test_features, test_labels = pickle.load(open('preprocess_test.p', mode='rb'))\n",
    "    loaded_graph = tf.Graph()\n",
    "\n",
    "    with tf.Session(graph=loaded_graph) as sess:\n",
    "        # Load model\n",
    "        loader = tf.train.import_meta_graph(save_model_path + '.meta')\n",
    "        loader.restore(sess, save_model_path)\n",
    "\n",
    "        # Get Tensors from loaded model\n",
    "        loaded_x = loaded_graph.get_tensor_by_name('x:0')\n",
    "        loaded_y = loaded_graph.get_tensor_by_name('y:0')\n",
    "        loaded_keep_prob = loaded_graph.get_tensor_by_name('keep_prob:0')\n",
    "        loaded_logits = loaded_graph.get_tensor_by_name('logits:0')\n",
    "        loaded_acc = loaded_graph.get_tensor_by_name('accuracy:0')\n",
    "        \n",
    "        # Get accuracy in batches for memory limitations\n",
    "        test_batch_acc_total = 0\n",
    "        test_batch_count = 0\n",
    "        \n",
    "        for train_feature_batch, train_label_batch in batch_features_labels(test_features, test_labels, batch_size):\n",
    "            test_batch_acc_total += sess.run(\n",
    "                loaded_acc,\n",
    "                feed_dict={loaded_x: train_feature_batch, loaded_y: train_label_batch, loaded_keep_prob: 1.0})\n",
    "            test_batch_count += 1\n",
    "\n",
    "        print('Testing Accuracy: {}\\n'.format(test_batch_acc_total/test_batch_count))\n",
    "\n",
    "        # Print Random Samples\n",
    "        random_test_features, random_test_labels = tuple(zip(*random.sample(list(zip(test_features, test_labels)), n_samples)))\n",
    "        random_test_predictions = sess.run(\n",
    "            tf.nn.top_k(tf.nn.softmax(loaded_logits), top_n_predictions),\n",
    "            feed_dict={loaded_x: random_test_features, loaded_y: random_test_labels, loaded_keep_prob: 1.0})\n",
    "        display_image_predictions(random_test_features, random_test_labels, random_test_predictions)\n",
    "\n",
    "\n",
    "test_model()"
   ]
  },
  {
   "cell_type": "markdown",
   "metadata": {},
   "source": [
    "### RESULTS <BR>\n",
    "    Overall model accuracy is 69%\n",
    "    Single-batch training was 64%\n",
    "    Training cross all 5 batches was 69.7%"
   ]
  },
  {
   "cell_type": "code",
   "execution_count": null,
   "metadata": {},
   "outputs": [],
   "source": []
  }
 ],
 "metadata": {
  "kernelspec": {
   "display_name": "Python 3",
   "language": "python",
   "name": "python3"
  },
  "language_info": {
   "codemirror_mode": {
    "name": "ipython",
    "version": 3
   },
   "file_extension": ".py",
   "mimetype": "text/x-python",
   "name": "python",
   "nbconvert_exporter": "python",
   "pygments_lexer": "ipython3",
   "version": "3.5.6"
  }
 },
 "nbformat": 4,
 "nbformat_minor": 2
}
